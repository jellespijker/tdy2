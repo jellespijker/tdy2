{
 "cells": [
  {
   "cell_type": "code",
   "execution_count": 2,
   "metadata": {
    "collapsed": true
   },
   "outputs": [],
   "source": [
    "from pint import UnitRegistry\n",
    "u = UnitRegistry(autoconvert_offset_to_baseunit = True)\n",
    "import matplotlib.pyplot as plt\n",
    "%matplotlib inline\n",
    "from IPython.display import display, Latex, Math\n",
    "from sympy import *\n",
    "from math import log, fabs, pow, exp"
   ]
  },
  {
   "cell_type": "markdown",
   "metadata": {},
   "source": [
    "# H4\n",
    "## 4.1\n",
    "$ 3 [m^3] $ lucht van $ 1 [bar] $ wordt isothermisch gecomprimeerd tot $ 5 [bar] $. Bij constante druk wordt het volume verdubbeld waarna, via isentropische expansie tot het beginvolume en een warmteafvoer bij constant volume de begin toestand weer wordt bereikt.  \n",
    "Stel een energiebalans op en bepaal het thermische rendement van het kringproces  \n",
    "$ c_p = 1005 [J/kgK] $ en $ c_v = 716 [J/kgK] $"
   ]
  },
  {
   "cell_type": "code",
   "execution_count": 3,
   "metadata": {},
   "outputs": [],
   "source": [
    "V = var('V_0:4') * u['m**3']\n",
    "T = var('T_0:4') * u['K']\n",
    "P = var('P_0:4') * u['Pa']"
   ]
  },
  {
   "cell_type": "code",
   "execution_count": 4,
   "metadata": {},
   "outputs": [],
   "source": [
    "m = 3 * u['kg']\n",
    "P[0] = 1 * u['bar']\n",
    "P[1] = 5 * u['bar']\n",
    "P[2] = P[1]\n",
    "V[0] = 3 * u['m**3']\n",
    "V[2] = 2 * V[1]\n",
    "V[3] = V[0]\n",
    "cp = 1005 * u['J/(kg*K)']\n",
    "cv = 716 * u['J/(kg*K)']"
   ]
  },
  {
   "cell_type": "code",
   "execution_count": 5,
   "metadata": {},
   "outputs": [],
   "source": [
    "R = cp - cv"
   ]
  },
  {
   "cell_type": "markdown",
   "metadata": {},
   "source": [
    "$$ pV = mRT  $$\n",
    "$$ T = \\frac{pV}{mR} $$\n",
    "omdat 0 -> 1 isotherm\n",
    "$$ T_0 = T_1 $$\n",
    "omdat 1 -> 2 isobaar $ p=C $ en $ n = 0 $ \n",
    "$$ pV^n = C $$\n",
    "$$ pV = mRT \\rightarrow p = \\frac{mRT}{V} $$\n",
    "$$ \\frac{mRT}{V} V^n = C \\rightarrow TV^{n-1} = C $$\n",
    "$$ T_2 = T_1 \\frac{V_1^{n-1}}{\\left(2V_1\\right)^{n-1}} \\rightarrow T_2 = 2T_1 $$"
   ]
  },
  {
   "cell_type": "code",
   "execution_count": 6,
   "metadata": {},
   "outputs": [],
   "source": [
    "T[0] = (P[0] * V[0])/(m * R)\n",
    "T[1] = T[0]\n",
    "T[2] = 2 * T[1]"
   ]
  },
  {
   "cell_type": "markdown",
   "metadata": {},
   "source": [
    "Omdat 0 -> 1 isotherm n = 1\n",
    "$$ pV^n = C $$\n",
    "$$ p_0V_0 = p_1V_0 \\rightarrow V_1 = \\frac{p_0}{p_1} V_0 $$"
   ]
  },
  {
   "cell_type": "code",
   "execution_count": 7,
   "metadata": {},
   "outputs": [],
   "source": [
    "V[1] = P[0]/P[1] * V[0]\n",
    "V[2] = 2 * V[1]"
   ]
  },
  {
   "cell_type": "markdown",
   "metadata": {},
   "source": [
    "omdat 2 -> 3 isentropische verloopt\n",
    "$$ pV^k = C $$\n",
    "$$ P_3 = P_2 \\frac{V_2^k}{V_2^k} $$"
   ]
  },
  {
   "cell_type": "code",
   "execution_count": 8,
   "metadata": {},
   "outputs": [],
   "source": [
    "k = cp/ cv\n",
    "P[3] = P[2] * (V[2]**k)/(V[3]**k)"
   ]
  },
  {
   "cell_type": "code",
   "execution_count": 9,
   "metadata": {},
   "outputs": [],
   "source": [
    "T[3] = (P[3] * V[3]) / (m*R)"
   ]
  },
  {
   "cell_type": "code",
   "execution_count": 11,
   "metadata": {},
   "outputs": [],
   "source": [
    "W_01 = m * R * T[0] * log(V[1]/V[0])\n",
    "W_12 = P[1] * (V[2] - V[1])\n",
    "W_23 = (-m * R)/(k - 1) * (T[3] - T[2])\n",
    "W_30 = 0"
   ]
  },
  {
   "cell_type": "code",
   "execution_count": 12,
   "metadata": {},
   "outputs": [],
   "source": [
    "Q_01 = m * R * T[0] * log(V[1]/V[0])\n",
    "Q_12 = m * cp * (T[2] - T[1])\n",
    "Q_23 = 0\n",
    "Q_30 = m * cv * (T[0] - T[3])"
   ]
  },
  {
   "cell_type": "code",
   "execution_count": 13,
   "metadata": {},
   "outputs": [
    {
     "data": {
      "text/plain": [
       "0.26525987558616404"
      ]
     },
     "execution_count": 13,
     "metadata": {},
     "output_type": "execute_result"
    }
   ],
   "source": [
    "Q_toe = Q_12\n",
    "Q_af = Q_01 + Q_30\n",
    "eta_th = 1 - (fabs(Q_af.m) / fabs(Q_toe.m))\n",
    "eta_th"
   ]
  },
  {
   "cell_type": "markdown",
   "metadata": {},
   "source": [
    "## 4.2\n",
    "Een gas met een druk van $1 [bar] $ wordt isentropisch gecomprimeerd tot $ 6 [bar] $. Daarna volgt een polytropische expansie tot het snijpunt met de isochoor door het begin punt. De druk in het snijpunt bedraagt $ 4.5 [bar] $, het volume $ 0.5 [m^3] $. Ten slotte wordt het gas bij constant volume afgekoeld tot de begin toestand weer bereikt is. Stel een energie balans op en bepaal het thermisch rendement van het kringproces $ k = 1.43 $"
   ]
  },
  {
   "cell_type": "code",
   "execution_count": 14,
   "metadata": {},
   "outputs": [],
   "source": [
    "V = var('V_0:3') * u['m**3']\n",
    "T = var('T_0:3') * u['K']\n",
    "P = var('P_0:3') * u['Pa']"
   ]
  },
  {
   "cell_type": "code",
   "execution_count": 15,
   "metadata": {},
   "outputs": [],
   "source": [
    "P[0] = 1 * u['bar']\n",
    "P[1] = 6 * u['bar']\n",
    "P[2] = 4.5 * u['bar']\n",
    "V[2] = 0.5 * u['m**3']\n",
    "V[0] = V[2]\n",
    "k = 1.43"
   ]
  },
  {
   "cell_type": "markdown",
   "metadata": {},
   "source": [
    "0 -> 1 = isentropische compressie, $ pV^k = C $, $ n = k  $, $ c= 0 $, $ W_{01} = \\frac{-1}{k-1}(p_1V_1 - p_0V_0) $, $ W_{01} = \\frac{-mRT}{k-1}(T_1 - T_0) $, $ Q_{01} = 0 $  \n",
    "1 -> 2 = polytropische expansie, $ pV^n = C $, $ n = n  $, $ c=c $, $ W_{12} = \\frac{-1}{n-1}(p_2V_2 - p_1V_1) $, $ W_{12} = \\frac{-mRT}{n-1}(T_2 - T_1) $, $ Q_{12} = m c (T_2 - T_1) $, $ Q_{12} = \\frac{c}{R} (p_2 V_2 - p_1 V_1) $  \n",
    "2 -> 0 = isochoor afkoeling, $ V = C $, $ n = \\inf  $, $ c=c_v $, $ W_{20} = 0 $, $ Q_{20} = m c_v (T_0 - T_2) $, $ Q_{12} = \\frac{1}{k-1} V(p_0 - p_2) $  "
   ]
  },
  {
   "cell_type": "code",
   "execution_count": 16,
   "metadata": {},
   "outputs": [],
   "source": [
    "V[1] = (P[0].m/P[1].m * V[0].m**k)**(1/k) * u['m**3']"
   ]
  },
  {
   "cell_type": "markdown",
   "metadata": {},
   "source": [
    "n @ 1 -> 2\n",
    "$$ p_1 V_1^n = p_2 V_2^n \\rightarrow n = \\frac{\\ln\\left(\\frac{p_2}{p_1}\\right)}{\\ln(V_1) - \\ln(V_2)}$$"
   ]
  },
  {
   "cell_type": "code",
   "execution_count": 17,
   "metadata": {},
   "outputs": [
    {
     "data": {
      "text/plain": [
       "0.22959854303618338"
      ]
     },
     "execution_count": 17,
     "metadata": {},
     "output_type": "execute_result"
    }
   ],
   "source": [
    "n = log(P[2].m/P[1].m)/(log(V[1].m) - log(V[2].m))\n",
    "n"
   ]
  },
  {
   "cell_type": "code",
   "execution_count": 18,
   "metadata": {},
   "outputs": [],
   "source": [
    "Q_01 = 0 * u['J']\n",
    "W_01 = -1/(k-1)*(P[1]*V[1] - P[0]*V[0])\n",
    "\n",
    "W_12 = -1/(n-1) * (P[2]*V[2] - P[1]*V[1])\n",
    "Q_12 = (k-n)/(k-1) * W_12\n",
    "\n",
    "Q_20 = 1/(k-1) * V[0] * (P[0]-P[2])\n",
    "W_20 = 0 * u['J']"
   ]
  },
  {
   "cell_type": "code",
   "execution_count": 19,
   "metadata": {},
   "outputs": [
    {
     "data": {
      "text/plain": [
       "0.1937598495966809"
      ]
     },
     "execution_count": 19,
     "metadata": {},
     "output_type": "execute_result"
    }
   ],
   "source": [
    "fabs((W_01 + W_12 + W_20).m)/fabs(Q_12.m)"
   ]
  },
  {
   "cell_type": "markdown",
   "metadata": {},
   "source": [
    "## 4.3\n",
    "Lucht van $ 1 [bar] $ en $ 300 [K] $ beschrijft het volgende kringproces: isentropische compressie tot $ 10 [bar] $ gevolgd door isothermische expansie tot het snijpunt met de polytroop $ pV^{-2} = C $ door de begintoestand. Vervolgens wordt deze polytroop gevolgd tot de begin toestand is bereitk.  \n",
    "Bepaal het thermisch rendement door berekening van de overgedragen warmtehoeveelheden.\n",
    "$ c_p = 1005 [J/kgK] $, $ c_v = 716 [J/kgK] $, $ k = 1.4 $ en $ R = 287 [J/kgK] $\n",
    "\n",
    "0->1 isentropische compressie  \n",
    "1->2 isothermische expansie  \n",
    "2->0 polytropische compressie"
   ]
  },
  {
   "cell_type": "code",
   "execution_count": 19,
   "metadata": {},
   "outputs": [],
   "source": [
    "V = var('V_0:3') * u['m**3']\n",
    "T = var('T_0:3') * u['K']\n",
    "P = var('P_0:3') * u['Pa']"
   ]
  },
  {
   "cell_type": "code",
   "execution_count": 21,
   "metadata": {},
   "outputs": [],
   "source": [
    "cp = 1005 * u['J/(kg*K)']\n",
    "cv = 716 * u['J/(kg*K)']\n",
    "k = 1.4\n",
    "R = 287 * u['J/(kg*K)']\n",
    "P[0] = 1 * u['bar']\n",
    "P[1] = 10 * u['bar']\n",
    "T[0] = 300 * u['K']\n",
    "T[2] = T[1]\n",
    "m = 1. * u['kg'] # aanname\n",
    "n_20 = -2"
   ]
  },
  {
   "cell_type": "markdown",
   "metadata": {},
   "source": [
    "V[0] = (m*R*T[0])/P[0]\n",
    "V[1] = (P[0].m/P[1].m * V[0].m**k)**(1/k) * u['m**3']\n",
    "T[1] = T[0] * V[0]**(k-1)/V[1]**(k-1)\n",
    "T[2] = T[1]\n",
    "V[2] = (T[0]/T[2] * V[0]**(n-1))**(1/(n-1))\n",
    "P[2] = (m*R*T[2])/V[2]"
   ]
  },
  {
   "cell_type": "code",
   "execution_count": 22,
   "metadata": {},
   "outputs": [
    {
     "ename": "TypeError",
     "evalue": "can't convert expression to float",
     "traceback": [
      "\u001b[0;31m---------------------------------------------------------------------------\u001b[0m",
      "\u001b[0;31mTypeError\u001b[0m                                 Traceback (most recent call last)",
      "\u001b[0;32m<ipython-input-22-1022d4f97d05>\u001b[0m in \u001b[0;36m<module>\u001b[0;34m()\u001b[0m\n\u001b[1;32m      1\u001b[0m \u001b[0mW_01\u001b[0m \u001b[0;34m=\u001b[0m \u001b[0mm\u001b[0m \u001b[0;34m*\u001b[0m \u001b[0mcv\u001b[0m \u001b[0;34m*\u001b[0m \u001b[0;34m(\u001b[0m\u001b[0mT\u001b[0m\u001b[0;34m[\u001b[0m\u001b[0;36m1\u001b[0m\u001b[0;34m]\u001b[0m \u001b[0;34m-\u001b[0m \u001b[0mT\u001b[0m\u001b[0;34m[\u001b[0m\u001b[0;36m0\u001b[0m\u001b[0;34m]\u001b[0m\u001b[0;34m)\u001b[0m\u001b[0;34m\u001b[0m\u001b[0m\n\u001b[1;32m      2\u001b[0m \u001b[0mQ_01\u001b[0m \u001b[0;34m=\u001b[0m \u001b[0;36m0\u001b[0m\u001b[0;34m\u001b[0m\u001b[0m\n\u001b[0;32m----> 3\u001b[0;31m \u001b[0mW_12\u001b[0m \u001b[0;34m=\u001b[0m \u001b[0mm\u001b[0m\u001b[0;34m*\u001b[0m\u001b[0mR\u001b[0m\u001b[0;34m*\u001b[0m\u001b[0mT\u001b[0m\u001b[0;34m[\u001b[0m\u001b[0;36m0\u001b[0m\u001b[0;34m]\u001b[0m\u001b[0;34m*\u001b[0m\u001b[0mlog\u001b[0m\u001b[0;34m(\u001b[0m\u001b[0mV\u001b[0m\u001b[0;34m[\u001b[0m\u001b[0;36m2\u001b[0m\u001b[0;34m]\u001b[0m\u001b[0;34m/\u001b[0m\u001b[0mV\u001b[0m\u001b[0;34m[\u001b[0m\u001b[0;36m0\u001b[0m\u001b[0;34m]\u001b[0m\u001b[0;34m)\u001b[0m\u001b[0;34m\u001b[0m\u001b[0m\n\u001b[0m\u001b[1;32m      4\u001b[0m \u001b[0mQ_12\u001b[0m \u001b[0;34m=\u001b[0m \u001b[0mW_12\u001b[0m\u001b[0;34m\u001b[0m\u001b[0m\n\u001b[1;32m      5\u001b[0m \u001b[0mW_20\u001b[0m \u001b[0;34m=\u001b[0m \u001b[0;34m-\u001b[0m\u001b[0;36m1\u001b[0m\u001b[0;34m/\u001b[0m\u001b[0;34m(\u001b[0m\u001b[0mn\u001b[0m\u001b[0;34m-\u001b[0m\u001b[0;36m1\u001b[0m\u001b[0;34m)\u001b[0m \u001b[0;34m*\u001b[0m \u001b[0;34m(\u001b[0m\u001b[0mP\u001b[0m\u001b[0;34m[\u001b[0m\u001b[0;36m0\u001b[0m\u001b[0;34m]\u001b[0m\u001b[0;34m*\u001b[0m\u001b[0mV\u001b[0m\u001b[0;34m[\u001b[0m\u001b[0;36m0\u001b[0m\u001b[0;34m]\u001b[0m \u001b[0;34m-\u001b[0m \u001b[0mP\u001b[0m\u001b[0;34m[\u001b[0m\u001b[0;36m2\u001b[0m\u001b[0;34m]\u001b[0m\u001b[0;34m*\u001b[0m\u001b[0mV\u001b[0m\u001b[0;34m[\u001b[0m\u001b[0;36m2\u001b[0m\u001b[0;34m]\u001b[0m\u001b[0;34m)\u001b[0m\u001b[0;34m\u001b[0m\u001b[0m\n",
      "\u001b[0;32m/usr/lib/python3.6/site-packages/pint/quantity.py\u001b[0m in \u001b[0;36m__float__\u001b[0;34m(self)\u001b[0m\n\u001b[1;32m    371\u001b[0m     \u001b[0;32mdef\u001b[0m \u001b[0m__float__\u001b[0m\u001b[0;34m(\u001b[0m\u001b[0mself\u001b[0m\u001b[0;34m)\u001b[0m\u001b[0;34m:\u001b[0m\u001b[0;34m\u001b[0m\u001b[0m\n\u001b[1;32m    372\u001b[0m         \u001b[0;32mif\u001b[0m \u001b[0mself\u001b[0m\u001b[0;34m.\u001b[0m\u001b[0mdimensionless\u001b[0m\u001b[0;34m:\u001b[0m\u001b[0;34m\u001b[0m\u001b[0m\n\u001b[0;32m--> 373\u001b[0;31m             \u001b[0;32mreturn\u001b[0m \u001b[0mfloat\u001b[0m\u001b[0;34m(\u001b[0m\u001b[0mself\u001b[0m\u001b[0;34m.\u001b[0m\u001b[0m_convert_magnitude_not_inplace\u001b[0m\u001b[0;34m(\u001b[0m\u001b[0mUnitsContainer\u001b[0m\u001b[0;34m(\u001b[0m\u001b[0;34m)\u001b[0m\u001b[0;34m)\u001b[0m\u001b[0;34m)\u001b[0m\u001b[0;34m\u001b[0m\u001b[0m\n\u001b[0m\u001b[1;32m    374\u001b[0m         \u001b[0;32mraise\u001b[0m \u001b[0mDimensionalityError\u001b[0m\u001b[0;34m(\u001b[0m\u001b[0mself\u001b[0m\u001b[0;34m.\u001b[0m\u001b[0m_units\u001b[0m\u001b[0;34m,\u001b[0m \u001b[0;34m'dimensionless'\u001b[0m\u001b[0;34m)\u001b[0m\u001b[0;34m\u001b[0m\u001b[0m\n\u001b[1;32m    375\u001b[0m \u001b[0;34m\u001b[0m\u001b[0m\n",
      "\u001b[0;32m/usr/lib/python3.6/site-packages/sympy/core/expr.py\u001b[0m in \u001b[0;36m__float__\u001b[0;34m(self)\u001b[0m\n\u001b[1;32m    224\u001b[0m         \u001b[0;32mif\u001b[0m \u001b[0mresult\u001b[0m\u001b[0;34m.\u001b[0m\u001b[0mis_number\u001b[0m \u001b[0;32mand\u001b[0m \u001b[0mresult\u001b[0m\u001b[0;34m.\u001b[0m\u001b[0mas_real_imag\u001b[0m\u001b[0;34m(\u001b[0m\u001b[0;34m)\u001b[0m\u001b[0;34m[\u001b[0m\u001b[0;36m1\u001b[0m\u001b[0;34m]\u001b[0m\u001b[0;34m:\u001b[0m\u001b[0;34m\u001b[0m\u001b[0m\n\u001b[1;32m    225\u001b[0m             \u001b[0;32mraise\u001b[0m \u001b[0mTypeError\u001b[0m\u001b[0;34m(\u001b[0m\u001b[0;34m\"can't convert complex to float\"\u001b[0m\u001b[0;34m)\u001b[0m\u001b[0;34m\u001b[0m\u001b[0m\n\u001b[0;32m--> 226\u001b[0;31m         \u001b[0;32mraise\u001b[0m \u001b[0mTypeError\u001b[0m\u001b[0;34m(\u001b[0m\u001b[0;34m\"can't convert expression to float\"\u001b[0m\u001b[0;34m)\u001b[0m\u001b[0;34m\u001b[0m\u001b[0m\n\u001b[0m\u001b[1;32m    227\u001b[0m \u001b[0;34m\u001b[0m\u001b[0m\n\u001b[1;32m    228\u001b[0m     \u001b[0;32mdef\u001b[0m \u001b[0m__complex__\u001b[0m\u001b[0;34m(\u001b[0m\u001b[0mself\u001b[0m\u001b[0;34m)\u001b[0m\u001b[0;34m:\u001b[0m\u001b[0;34m\u001b[0m\u001b[0m\n",
      "\u001b[0;31mTypeError\u001b[0m: can't convert expression to float"
     ],
     "output_type": "error"
    }
   ],
   "source": [
    "W_01 = m * cv * (T[1] - T[0])\n",
    "Q_01 = 0\n",
    "W_12 = m*R*T[0]*log(V[2]/V[0])\n",
    "Q_12 = W_12\n",
    "W_20 = -1/(n-1) * (P[0]*V[0] - P[2]*V[2])\n",
    "Q_20 = (k-n)/(k-1) * W_20"
   ]
  },
  {
   "cell_type": "code",
   "execution_count": 23,
   "metadata": {},
   "outputs": [
    {
     "data": {
      "text/latex": [
       "$1/(0.00141842981432099*T_1 - 0.0673154503810192) \\frac{meter^{3} \\cdot pascal}{joule}$"
      ],
      "text/plain": [
       "<Quantity(1/(0.00141842981432099*T_1 - 0.0673154503810192), 'meter ** 3 * pascal / joule')>"
      ]
     },
     "metadata": {},
     "output_type": "display_data"
    }
   ],
   "source": [
    "W_sum = W_01 + W_12 + W_20\n",
    "eta_th = W_sum / Q_12\n",
    "eta_th**-1"
   ]
  },
  {
   "cell_type": "markdown",
   "metadata": {},
   "source": [
    "## 4.8\n",
    "Lucht van $ 1 [bar] $ en $ 300 [K] $ wordt isothermisch gecomprimeerd tot $ 2 [bar] $ en vervolgens isentropisch gecomprimeerd tot de temperatuur $ 1800 [K] $ is geworden. Daarna expandeert het gas isothermisch waarna waarna een isentropische expansie volgt tot de begintoestand weer is bereikt. Bereken voor $ m = 1 [kg] $ het thermisch rendement van het kringprocess, de nuttige arbeid, de compressie verhouding $ c $ en de gemiddelde druk $ p_m [Pa] $. $ R = 287 [J/kgK] $ en $ k = 1,4 $\n"
   ]
  },
  {
   "cell_type": "code",
   "execution_count": 29,
   "metadata": {},
   "outputs": [],
   "source": [
    "V = var('V_0:4') * u['m**3']\n",
    "T = var('T_0:4') * u['K']\n",
    "P = var('P_0:4') * u['Pa']"
   ]
  },
  {
   "cell_type": "code",
   "execution_count": 33,
   "metadata": {},
   "outputs": [],
   "source": [
    "k = 1.4\n",
    "R = 287 * u['J/(kg*K)']\n",
    "P[0] = 1 * u['bar']\n",
    "P[1] = 2 * u['bar']\n",
    "T[0] = 300 * u['K']\n",
    "T[1] = T[0]\n",
    "T[2] = 1800 * u['K']\n",
    "T[3] = T[2]\n",
    "m = 1. * u['kg']"
   ]
  },
  {
   "cell_type": "code",
   "execution_count": 31,
   "metadata": {},
   "outputs": [
    {
     "data": {
      "text/latex": [
       "$0.8333333333333334 dimensionless$"
      ],
      "text/plain": [
       "<Quantity(0.8333333333333334, 'dimensionless')>"
      ]
     },
     "metadata": {},
     "output_type": "display_data"
    }
   ],
   "source": [
    "eta_th = 1 - (T[0]/T[2])\n",
    "eta_th"
   ]
  },
  {
   "cell_type": "code",
   "execution_count": 36,
   "metadata": {},
   "outputs": [
    {
     "data": {
      "text/latex": [
       "$[300 300 1800 1800] kelvin$"
      ],
      "text/plain": [
       "<Quantity([300 300 1800 1800], 'kelvin')>"
      ]
     },
     "metadata": {},
     "output_type": "display_data"
    }
   ],
   "source": [
    "V[0] = (m*R*T[0])/P[0]\n",
    "V[1] = P[0]/P[1] * V[0]\n",
    "V[2] = (T[1]/T[2] * V[1]**(k-1))**(1/(k-1))\n",
    "T"
   ]
  },
  {
   "cell_type": "code",
   "execution_count": 28,
   "metadata": {},
   "outputs": [
    {
     "ename": "IndexError",
     "evalue": "index 3 is out of bounds for axis 0 with size 3",
     "traceback": [
      "\u001b[0;31m---------------------------------------------------------------------------\u001b[0m",
      "\u001b[0;31mIndexError\u001b[0m                                Traceback (most recent call last)",
      "\u001b[0;32m<ipython-input-28-50d9cd27068f>\u001b[0m in \u001b[0;36m<module>\u001b[0;34m()\u001b[0m\n\u001b[1;32m      1\u001b[0m \u001b[0mW_toe\u001b[0m \u001b[0;34m=\u001b[0m \u001b[0;34m-\u001b[0m\u001b[0;36m1\u001b[0m\u001b[0;34m/\u001b[0m\u001b[0;34m(\u001b[0m\u001b[0mk\u001b[0m\u001b[0;34m-\u001b[0m\u001b[0;36m1\u001b[0m\u001b[0;34m)\u001b[0m \u001b[0;34m*\u001b[0m \u001b[0;34m(\u001b[0m\u001b[0mP\u001b[0m\u001b[0;34m[\u001b[0m\u001b[0;36m2\u001b[0m\u001b[0;34m]\u001b[0m\u001b[0;34m*\u001b[0m\u001b[0mV\u001b[0m\u001b[0;34m[\u001b[0m\u001b[0;36m2\u001b[0m\u001b[0;34m]\u001b[0m \u001b[0;34m-\u001b[0m \u001b[0mP\u001b[0m\u001b[0;34m[\u001b[0m\u001b[0;36m1\u001b[0m\u001b[0;34m]\u001b[0m\u001b[0;34m*\u001b[0m\u001b[0mV\u001b[0m\u001b[0;34m[\u001b[0m\u001b[0;36m1\u001b[0m\u001b[0;34m]\u001b[0m\u001b[0;34m)\u001b[0m\u001b[0;34m\u001b[0m\u001b[0m\n\u001b[0;32m----> 2\u001b[0;31m \u001b[0mW_af\u001b[0m \u001b[0;34m=\u001b[0m \u001b[0;34m-\u001b[0m\u001b[0;36m1\u001b[0m\u001b[0;34m/\u001b[0m\u001b[0;34m(\u001b[0m\u001b[0mk\u001b[0m\u001b[0;34m-\u001b[0m\u001b[0;36m1\u001b[0m\u001b[0;34m)\u001b[0m \u001b[0;34m*\u001b[0m \u001b[0;34m(\u001b[0m\u001b[0mP\u001b[0m\u001b[0;34m[\u001b[0m\u001b[0;36m0\u001b[0m\u001b[0;34m]\u001b[0m\u001b[0;34m*\u001b[0m\u001b[0mV\u001b[0m\u001b[0;34m[\u001b[0m\u001b[0;36m0\u001b[0m\u001b[0;34m]\u001b[0m \u001b[0;34m-\u001b[0m \u001b[0mP\u001b[0m\u001b[0;34m[\u001b[0m\u001b[0;36m3\u001b[0m\u001b[0;34m]\u001b[0m\u001b[0;34m*\u001b[0m\u001b[0mV\u001b[0m\u001b[0;34m[\u001b[0m\u001b[0;36m3\u001b[0m\u001b[0;34m]\u001b[0m\u001b[0;34m)\u001b[0m\u001b[0;34m\u001b[0m\u001b[0m\n\u001b[0m",
      "\u001b[0;32m/usr/lib/python3.6/site-packages/pint/quantity.py\u001b[0m in \u001b[0;36m__getitem__\u001b[0;34m(self, key)\u001b[0m\n\u001b[1;32m   1112\u001b[0m     \u001b[0;32mdef\u001b[0m \u001b[0m__getitem__\u001b[0m\u001b[0;34m(\u001b[0m\u001b[0mself\u001b[0m\u001b[0;34m,\u001b[0m \u001b[0mkey\u001b[0m\u001b[0;34m)\u001b[0m\u001b[0;34m:\u001b[0m\u001b[0;34m\u001b[0m\u001b[0m\n\u001b[1;32m   1113\u001b[0m         \u001b[0;32mtry\u001b[0m\u001b[0;34m:\u001b[0m\u001b[0;34m\u001b[0m\u001b[0m\n\u001b[0;32m-> 1114\u001b[0;31m             \u001b[0mvalue\u001b[0m \u001b[0;34m=\u001b[0m \u001b[0mself\u001b[0m\u001b[0;34m.\u001b[0m\u001b[0m_magnitude\u001b[0m\u001b[0;34m[\u001b[0m\u001b[0mkey\u001b[0m\u001b[0;34m]\u001b[0m\u001b[0;34m\u001b[0m\u001b[0m\n\u001b[0m\u001b[1;32m   1115\u001b[0m             \u001b[0;32mreturn\u001b[0m \u001b[0mself\u001b[0m\u001b[0;34m.\u001b[0m\u001b[0m__class__\u001b[0m\u001b[0;34m(\u001b[0m\u001b[0mvalue\u001b[0m\u001b[0;34m,\u001b[0m \u001b[0mself\u001b[0m\u001b[0;34m.\u001b[0m\u001b[0m_units\u001b[0m\u001b[0;34m)\u001b[0m\u001b[0;34m\u001b[0m\u001b[0m\n\u001b[1;32m   1116\u001b[0m         \u001b[0;32mexcept\u001b[0m \u001b[0mTypeError\u001b[0m\u001b[0;34m:\u001b[0m\u001b[0;34m\u001b[0m\u001b[0m\n",
      "\u001b[0;31mIndexError\u001b[0m: index 3 is out of bounds for axis 0 with size 3"
     ],
     "output_type": "error"
    }
   ],
   "source": [
    "W_toe = -1/(k-1) * (P[2]*V[2] - P[1]*V[1])\n",
    "W_af = -1/(k-1) * (P[0]*V[0] - P[3]*V[3])"
   ]
  },
  {
   "cell_type": "code",
   "execution_count": null,
   "metadata": {},
   "outputs": [],
   "source": [
    ""
   ]
  }
 ],
 "metadata": {
  "kernelspec": {
   "display_name": "Python 2",
   "language": "python",
   "name": "python2"
  },
  "language_info": {
   "codemirror_mode": {
    "name": "ipython",
    "version": 2.0
   },
   "file_extension": ".py",
   "mimetype": "text/x-python",
   "name": "python",
   "nbconvert_exporter": "python",
   "pygments_lexer": "ipython2",
   "version": "2.7.6"
  }
 },
 "nbformat": 4,
 "nbformat_minor": 0
}