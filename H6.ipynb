{
 "cells": [
  {
   "cell_type": "code",
   "execution_count": 1,
   "metadata": {
    "collapsed": true
   },
   "outputs": [],
   "source": [
    "from pint import UnitRegistry\n",
    "u = UnitRegistry(autoconvert_offset_to_baseunit = True)\n",
    "import matplotlib.pyplot as plt\n",
    "%matplotlib inline\n",
    "from IPython.display import display, Latex, Math\n",
    "from sympy import *\n",
    "from math import log, fabs, pow, exp"
   ]
  },
  {
   "cell_type": "markdown",
   "metadata": {},
   "source": [
    "# H6\n",
    "## 6.1\n",
    "In een ongekoelde centrifugaalcompressor wordt een gasmengsel van $ 0.8 [bar] $ en $ 17 [^\\circ C] $ gecomprimeerd tot $ 5.6 [bar] $ en $ 300 [^\\circ C] $. De intreesnelheid is $ 150 [m/s] $, de doorsnede van de instroomopening is $  0.01 [m^2] $ en de uitstroom opening bedraagt $ 250 [m/s] $. Als het gas als ideaal kan worden beschouwd, bereken dan het toe te voeren vermogen. $ c_v = 700 [J/kgK] $ en $ R = 350 [J/kgK] $"
   ]
  },
  {
   "cell_type": "code",
   "execution_count": 2,
   "metadata": {},
   "outputs": [],
   "source": [
    "v = var('v_0:2') * u['m**3/kg']\n",
    "T = var('T_0:2') * u['K']\n",
    "p = var('p_0:2') * u['Pa']\n",
    "c = var('c_0:2') * u['m/s']\n",
    "A = var('A_0:2') * u['m**2']"
   ]
  },
  {
   "cell_type": "code",
   "execution_count": 3,
   "metadata": {},
   "outputs": [],
   "source": [
    "p[0] = 0.8 * u['bar']\n",
    "p[1] = 5.6 * u['bar']\n",
    "T[0] = (17 * u['degC']).to('K')\n",
    "T[1] = (300 * u['degC']).to('K')\n",
    "c[0] = 150 * u['m/s']\n",
    "c[1] = 250 * u['m/s']\n",
    "A[0] = 0.01 * u['m**2']"
   ]
  },
  {
   "cell_type": "code",
   "execution_count": 4,
   "metadata": {},
   "outputs": [],
   "source": [
    "cv = 700 * u['J/(kg*K)']\n",
    "R = 350 * u['J/(kg*K)']"
   ]
  },
  {
   "cell_type": "code",
   "execution_count": 5,
   "metadata": {},
   "outputs": [
    {
     "data": {
      "text/latex": [
       "$297150.0 \\frac{joule}{kilogram}$"
      ],
      "text/plain": [
       "<Quantity(297150.0, 'joule / kilogram')>"
      ]
     },
     "metadata": {},
     "output_type": "display_data"
    }
   ],
   "source": [
    "dh = (cv + R)*(T[1] - T[0])\n",
    "dh"
   ]
  },
  {
   "cell_type": "code",
   "execution_count": 6,
   "metadata": {},
   "outputs": [],
   "source": [
    "v[0] = (R*T[0])/p[0]\n",
    "v[1] = (R*T[1])/p[1]"
   ]
  },
  {
   "cell_type": "code",
   "execution_count": 8,
   "metadata": {},
   "outputs": [],
   "source": [
    "q_12 = 0 * u['J/kg']"
   ]
  },
  {
   "cell_type": "code",
   "execution_count": 9,
   "metadata": {},
   "outputs": [
    {
     "data": {
      "text/latex": [
       "$20000.0 \\frac{meter^{2}}{second^{2}}$"
      ],
      "text/plain": [
       "<Quantity(20000.0, 'meter ** 2 / second ** 2')>"
      ]
     },
     "metadata": {},
     "output_type": "display_data"
    }
   ],
   "source": [
    "dc_12 = 0.5 * (c[1]**2 - c[0]**2)\n",
    "dc_12"
   ]
  },
  {
   "cell_type": "code",
   "execution_count": 10,
   "metadata": {},
   "outputs": [
    {
     "data": {
      "text/latex": [
       "$-317150.0 \\frac{joule}{kilogram}$"
      ],
      "text/plain": [
       "<Quantity(-317150.0, 'joule / kilogram')>"
      ]
     },
     "metadata": {},
     "output_type": "display_data"
    }
   ],
   "source": [
    "wt_12 = q_12 - dh - dc_12\n",
    "wt_12"
   ]
  },
  {
   "cell_type": "code",
   "execution_count": 11,
   "metadata": {},
   "outputs": [
    {
     "data": {
      "text/latex": [
       "$1.181654809088895 \\frac{kilogram}{second}$"
      ],
      "text/plain": [
       "<Quantity(1.181654809088895, 'kilogram / second')>"
      ]
     },
     "metadata": {},
     "output_type": "display_data"
    }
   ],
   "source": [
    "m_dot = A[0] * c[0] / v[0]\n",
    "m_dot"
   ]
  },
  {
   "cell_type": "code",
   "execution_count": 12,
   "metadata": {},
   "outputs": [
    {
     "data": {
      "text/latex": [
       "$-374.76182270254304 kilowatt$"
      ],
      "text/plain": [
       "<Quantity(-374.76182270254304, 'kilowatt')>"
      ]
     },
     "metadata": {},
     "output_type": "display_data"
    }
   ],
   "source": [
    "(wt_12 * m_dot).to('kW')"
   ]
  },
  {
   "cell_type": "code",
   "execution_count": null,
   "metadata": {},
   "outputs": [],
   "source": [
    ""
   ]
  }
 ],
 "metadata": {
  "kernelspec": {
   "display_name": "Python 2",
   "language": "python",
   "name": "python2"
  },
  "language_info": {
   "codemirror_mode": {
    "name": "ipython",
    "version": 2.0
   },
   "file_extension": ".py",
   "mimetype": "text/x-python",
   "name": "python",
   "nbconvert_exporter": "python",
   "pygments_lexer": "ipython2",
   "version": "2.7.6"
  }
 },
 "nbformat": 4,
 "nbformat_minor": 0
}