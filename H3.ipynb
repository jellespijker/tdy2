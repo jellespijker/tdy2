{
 "cells": [
  {
   "cell_type": "markdown",
   "metadata": {
    "collapsed": true
   },
   "source": [
    "## 3.2\n",
    "In een verticale cilinder, aan de bovenzijde afgesloten door een zuiger waarop de atmosferische druk $ 1 [bar] $ werkt, bevindt zich $ 0.5 [m^3] $ lucht van $ 100 [^{\\circ}C] $. Het oppervlak van de zuiger is $ 0.1 [m^2] $, de massa ervan $ 100 [kg] $. Door afkoeling (omkeerbaar) wordt het volume van de lucht $ 0.125 [m^3] $ kleiner. Bereken de eindtemperatuur van het gas, de afgevoerde warmte en de door het gas verrichte arbeid.  \n",
    "Gegevens lucht: $ c p = 1005 [J/(kgK)] $, $ R = 287 [J/(kgK)] $, $ g = 9,8 m/s $"
   ]
  },
  {
   "cell_type": "code",
   "execution_count": 1,
   "metadata": {},
   "outputs": [],
   "source": [
    "from pint import UnitRegistry\n",
    "u = UnitRegistry(autoconvert_offset_to_baseunit = True)\n",
    "import matplotlib.pyplot as plt\n",
    "%matplotlib inline\n",
    "from IPython.display import display, Latex, Math\n",
    "from scipy.integrate import quad\n",
    "from sympy import *\n",
    "g = 9.8 * u['m/s**2']"
   ]
  },
  {
   "cell_type": "code",
   "execution_count": 2,
   "metadata": {},
   "outputs": [],
   "source": [
    "cp = 1005 * u['J/(kg*K)']\n",
    "R = 287 * u['J/(kg*K)']\n",
    "v_1 = 0.5  * u['m**3']\n",
    "dv = -0.125 * u['m**3']\n",
    "m_z = 100 * u['kg']\n",
    "A_z = 0.1 * u['m**2']\n",
    "p_a = 1 * u['bar']\n",
    "T_1 = (100 * u['degC']).to('K')"
   ]
  },
  {
   "cell_type": "code",
   "execution_count": 3,
   "metadata": {},
   "outputs": [],
   "source": [
    "v_2 = v_1 + dv\n",
    "F_z = m_z * g\n",
    "p_z = F_z / A_z\n",
    "p = p_a + p_z"
   ]
  },
  {
   "cell_type": "markdown",
   "metadata": {},
   "source": [
    "$$ pV^n = c $$\n",
    "$$ pV = mRT \\rightarrow p = \\frac{mRT}{V}$$\n",
    "$$ \\frac{mRT}{V} V^n = c \\rightarrow \\frac{T}{V^{1-n}} = \\frac{c}{mR} $$\n",
    "$$ \\frac{T_1}{V_1^{1-n}} = \\frac{T_2}{V_2^{1-n}}$$\n",
    "adiabaat dus $ n = 0 $\n",
    "$$ T_2 = T_1 \\frac{V_2}{V_1}$$"
   ]
  },
  {
   "cell_type": "code",
   "execution_count": 4,
   "metadata": {},
   "outputs": [
    {
     "name": "stdout",
     "output_type": "stream",
     "text": [
      "Eindtemperatuur: 279.86249999999995 kelvin\n"
     ]
    }
   ],
   "source": [
    "T_2 = T_1.to('K') * v_2 / v_1\n",
    "print('Eindtemperatuur: ' + str(T_2))"
   ]
  },
  {
   "cell_type": "markdown",
   "metadata": {},
   "source": [
    "$$ pV = mRT \\rightarrow m = \\frac{pV}{RT} $$"
   ]
  },
  {
   "cell_type": "code",
   "execution_count": 5,
   "metadata": {},
   "outputs": [
    {
     "name": "stdout",
     "output_type": "stream",
     "text": [
      "Massa: 0.5126335216568989 kilogram\nToegevoerde warmte: -48.06141114982581 kilojoule\n"
     ]
    }
   ],
   "source": [
    "m = (p * v_1)/(R*T_1)\n",
    "print('Massa: ' + str(m.to('kg')))\n",
    "dT = T_2 - T_1\n",
    "du = m * cp * dT\n",
    "q_12 = du\n",
    "print('Toegevoerde warmte: ' + str(q_12.to('kJ')))"
   ]
  },
  {
   "cell_type": "code",
   "execution_count": 9,
   "metadata": {},
   "outputs": [
    {
     "name": "stdout",
     "output_type": "stream",
     "text": [
      "arbeid: -13.725000000000001 kilojoule\n"
     ]
    }
   ],
   "source": [
    "w_12 = p * dv\n",
    "print('arbeid: ' + str(w_12.to('kJ')))"
   ]
  },
  {
   "cell_type": "markdown",
   "metadata": {},
   "source": [
    "## 3.3\n",
    "Twee kilogram gas wordt bij een constante druk verwarmd waarbij de temperatuur van het gas $ 150 [K] $ toeneemt. Als $ c_p = 1.0 [kJ/(kgK)] $, bereken dan:  \n",
    "a: de toe te voeren warmte  \n",
    "b: de arbeid die door het systeem op de omgeving wordt verricht als $ k=1.4 $  \n",
    "c: de gasconstante $ R [J/(kgK)] $\n",
    "d: de verandering van de inwendige energie in $ kJ/m_n^3 $"
   ]
  },
  {
   "cell_type": "code",
   "execution_count": 10,
   "metadata": {},
   "outputs": [],
   "source": [
    "m = 2 * u['kg']\n",
    "dT = 150 * u['K']\n",
    "cp= 1.0 * u['kJ/(kg * K)']\n",
    "k = 1.4"
   ]
  },
  {
   "cell_type": "code",
   "execution_count": 11,
   "metadata": {},
   "outputs": [
    {
     "name": "stdout",
     "output_type": "stream",
     "text": [
      "Toe te voeren warmte: 300.0 kilojoule\n"
     ]
    }
   ],
   "source": [
    "Q_12 = m * cp * dT\n",
    "print('Toe te voeren warmte: ' + str(Q_12))"
   ]
  },
  {
   "cell_type": "markdown",
   "metadata": {},
   "source": [
    "$$ R = c_p - c_v $$\n",
    "$$ k = \\frac{c_p}{c_v} \\rightarrow c_v = \\frac{c_p}{k} $$\n",
    "$$ R = c_p - \\frac{c_p}{k} \\rightarrow R = c_p\\left(1- \\frac{1}{K}\\right)$$"
   ]
  },
  {
   "cell_type": "code",
   "execution_count": 12,
   "metadata": {},
   "outputs": [
    {
     "name": "stdout",
     "output_type": "stream",
     "text": [
      "gas constonate: 285.7142857142857 joule / kelvin / kilogram\n"
     ]
    }
   ],
   "source": [
    "R = cp*(1-k**-1)\n",
    "print('gas constonate: ' + str(R.to('J/(kg*K)')))"
   ]
  },
  {
   "cell_type": "code",
   "execution_count": 13,
   "metadata": {},
   "outputs": [
    {
     "name": "stdout",
     "output_type": "stream",
     "text": [
      "Arbeid op het systeem: 85.71428571428571 kilojoule\n"
     ]
    }
   ],
   "source": [
    "W_12 = m * R * dT\n",
    "print('Arbeid op het systeem: '+ str(W_12))"
   ]
  },
  {
   "cell_type": "markdown",
   "metadata": {},
   "source": [
    "## 3.4\n",
    "Aan $ 3 [m^3] $ lucht van $ 40 [^{\\circ}C] $ en $ 3 [bar] $ wordt $ 358 [kJ] $ warmte toegevoerd. De lucht bevind zich in een gesloten vat. Wat is de eindtoestand van de lucht en hoeveel $ m_n^{3} $ lucht moet men vervolgens laten ontsnappen om de begin druk weer te bereiken.\n",
    "$ R = 287 [J/kgK] $, $ c_v = 716 [J/kgK] $"
   ]
  },
  {
   "cell_type": "code",
   "execution_count": 14,
   "metadata": {},
   "outputs": [],
   "source": [
    "V_1 = 3 * u['m**3']\n",
    "V_2 = V_1 # isochoor\n",
    "T_1 = (40 * u['degC']).to('K')\n",
    "P_1 = 3 * u['bar']\n",
    "R = 287 * u['J/(kg*K)']\n",
    "cv = 716 * u['J/(kg.K)']\n",
    "Q_12 = 358 * u['kJ']"
   ]
  },
  {
   "cell_type": "markdown",
   "metadata": {},
   "source": [
    "$$ k = \\frac{c_p}{c_v} $$\n",
    "$$ R = c_p - c_v \\rightarrow c_p = R + c_v$$\n",
    "$$ k = \\frac{R + c_v}{c_v} $$\n",
    "$$ Q_{12} = \\frac{1}{k-1} V \\Delta p \\rightarrow \\Delta p = \\frac{(k-1)Q_{12}}{V} $$\n"
   ]
  },
  {
   "cell_type": "code",
   "execution_count": 15,
   "metadata": {},
   "outputs": [
    {
     "name": "stdout",
     "output_type": "stream",
     "text": [
      "Pressure punt 2: 3.4783333333333335 bar\n"
     ]
    }
   ],
   "source": [
    "k = (R + cv) / cv\n",
    "dP = ((k - 1) * Q_12)/V_1\n",
    "P_2 = P_1 + dP\n",
    "print('Pressure punt 2: ' + str(P_2))"
   ]
  },
  {
   "cell_type": "markdown",
   "metadata": {},
   "source": [
    "$$ pV = mRT \\rightarrow m = \\frac{pV}{RT} $$\n",
    "$$ Q_12 = m c_v \\Delta T \\rightarrow \\Delta T = \\frac{Q_{12}}{m c_v}$$"
   ]
  },
  {
   "cell_type": "code",
   "execution_count": 16,
   "metadata": {},
   "outputs": [
    {
     "name": "stdout",
     "output_type": "stream",
     "text": [
      "Mass is: 10.014014056337732 kilogram\n"
     ]
    }
   ],
   "source": [
    "m = ((P_1 * V_1) / (R * T_1)).to('kg')\n",
    "print('Mass is: ' + str(m))"
   ]
  },
  {
   "cell_type": "code",
   "execution_count": 17,
   "metadata": {},
   "outputs": [
    {
     "name": "stdout",
     "output_type": "stream",
     "text": [
      "Temperatuur punt 2: 363.08002777777773 kelvin\n"
     ]
    }
   ],
   "source": [
    "dT = Q_12 / (m * cv)\n",
    "T_2 = (T_1 + dT)\n",
    "print('Temperatuur punt 2: ' + str(T_2))"
   ]
  },
  {
   "cell_type": "markdown",
   "metadata": {},
   "source": [
    "$$ pV^n = c $$\n",
    "$$ pV = mRT \\rightarrow p = \\frac{mRT}{V}$$\n",
    "$$ \\frac{mRT}{V} V^n = c \\rightarrow \\frac{T}{V^{1-n}} = \\frac{c}{mR} $$\n",
    "$$ \\frac{T_1}{V_1^{1-n}} = \\frac{T_2}{V_2^{1-n}}$$\n",
    "adiabaat dus $ n = 0 $\n",
    "$$ V_2 = V_1 \\frac{T_1}{T_2}$$"
   ]
  },
  {
   "cell_type": "code",
   "execution_count": 18,
   "metadata": {},
   "outputs": [
    {
     "name": "stdout",
     "output_type": "stream",
     "text": [
      "Er moet -0.41255390512697643 meter ** 3 weg gehaald worden om de oorspronkelijke druk van 3 bar te herstellen\n"
     ]
    }
   ],
   "source": [
    "V_2prime = V_1 * T_1/T_2\n",
    "dVprime = V_2prime - V_2\n",
    "print('Er moet ' + str(dVprime.to('m**3')) + ' weg gehaald worden om de oorspronkelijke druk van ' + str(P_1) + ' te herstellen')"
   ]
  },
  {
   "cell_type": "markdown",
   "metadata": {},
   "source": [
    "## 3.5\n",
    "### a\n",
    "In een cilinder, afgesloten door een zuiger, bevind zich $ 0.3 [m^3] $ van een gas waarvan de druk door afkoeling daalt tot $ \\frac{1}{3} $ van de beginwaarde. Het volume wordt hierbij constant gehouden. Met welke bedrag moet het volume vervolgens bij een verwarming onder constante druk toenemen om de begin temperatuur weer te bereiken?"
   ]
  },
  {
   "cell_type": "code",
   "execution_count": 19,
   "metadata": {},
   "outputs": [],
   "source": [
    "V = var('V_0:3') * u['m**3']\n",
    "T = var('T_0:3') * u['K']\n",
    "P = var('P_0:3') * u['Pa']"
   ]
  },
  {
   "cell_type": "code",
   "execution_count": 20,
   "metadata": {},
   "outputs": [],
   "source": [
    "V[0] = 0.3 * u['m**3']\n",
    "V[1] = V[0]\n",
    "P[1] = 1/3 * P[0]\n",
    "P[2] = P[1]\n",
    "T[2] = T[0]"
   ]
  },
  {
   "cell_type": "code",
   "execution_count": 21,
   "metadata": {},
   "outputs": [],
   "source": [
    "T[1] = T[0] * P[1]/P[0]\n",
    "V[2] = V[1] * T[2]/T[1]"
   ]
  },
  {
   "cell_type": "code",
   "execution_count": 22,
   "metadata": {},
   "outputs": [
    {
     "data": {
      "text/latex": [
       "$0.600000000000000 meter^{3}$"
      ],
      "text/plain": [
       "<Quantity(0.600000000000000, 'meter ** 3')>"
      ]
     },
     "metadata": {},
     "output_type": "display_data"
    }
   ],
   "source": [
    "dV_20 = V[2] -V[0]\n",
    "dV_20"
   ]
  },
  {
   "cell_type": "markdown",
   "metadata": {},
   "source": [
    "### b\n",
    "Als de begindruk $ 3 [bar] $ is, wat is dan de netto-warmtehoeveelheid die tijdens bovengenoemde toestandsverandering moet worden toegevoerd en wat is de totale vernadering van de inwendige energie?"
   ]
  },
  {
   "cell_type": "code",
   "execution_count": 23,
   "metadata": {},
   "outputs": [],
   "source": [
    "P[0] = 3 * u['bar']\n",
    "P[1] = 1/3 * P[0]\n",
    "P[2] = P[1]"
   ]
  },
  {
   "cell_type": "code",
   "execution_count": 24,
   "metadata": {},
   "outputs": [
    {
     "data": {
      "text/latex": [
       "$60.0000000000000 kilojoule$"
      ],
      "text/plain": [
       "<Quantity(60.0000000000000, 'kilojoule')>"
      ]
     },
     "metadata": {},
     "output_type": "display_data"
    }
   ],
   "source": [
    "dU = 0 * u['kJ']\n",
    "W_20 = P[2] * dV_20\n",
    "Q_20 = dU + W_20\n",
    "Q_20.to('kJ')"
   ]
  },
  {
   "cell_type": "markdown",
   "metadata": {},
   "source": [
    "## 3.7\n",
    "Aan $ 3 [kg] $ gas van $ 300 [K] $ wordt bij constant volume $ 193.5 [kJ] $ warmte toegevoerd. Vervolgens wordt het gas isothermisch gecomprimeerd waarbij $ 193.5 [kJ] $ arbeid wordt toegevoerd. De druk verhouding is hierbij gelijk aan de eerstgenoemde proces. Teken de beide toestandsveranderingen in een *p-V-*diagram, aceer de totaal toetevoeren arbeid en bepaal, als $ c_v = 322 [J/kgK] $:  \n",
    "a: de gasconstante $ R $ in $ [J/kgK] $  \n",
    "b: de warmteafvoer tijdens de isothermische compressie in $ [kJ/kg] $  \n",
    "c: de verandering van de inwendige energie tijdens elk van de bovengenoemde toestandsveranderingen  "
   ]
  },
  {
   "cell_type": "code",
   "execution_count": 25,
   "metadata": {},
   "outputs": [],
   "source": [
    "V = var('V_0:3') * u['m**3']\n",
    "T = var('T_0:3') * u['K']\n",
    "P = var('P_0:3') * u['Pa']"
   ]
  },
  {
   "cell_type": "code",
   "execution_count": 36,
   "metadata": {},
   "outputs": [],
   "source": [
    "m = 3 * u['kg']\n",
    "cv = 322 * u['J/(kg*K)']\n",
    "T[0] = (300 * u['K']).to('K')\n",
    "V[1] = V[0]\n",
    "Q_01 = 193.5 * u['kJ']\n",
    "W_12 = 193.5 * u['kJ']"
   ]
  },
  {
   "cell_type": "code",
   "execution_count": 37,
   "metadata": {},
   "outputs": [],
   "source": [
    "T[1] = T[0] + Q_01 / (m * cv)\n",
    "T[2] = T[1]"
   ]
  },
  {
   "cell_type": "code",
   "execution_count": 38,
   "metadata": {},
   "outputs": [],
   "source": [
    "Q_12 = W_12"
   ]
  },
  {
   "cell_type": "code",
   "execution_count": 41,
   "metadata": {},
   "outputs": [
    {
     "data": {
      "text/latex": [
       "$1.6677018633540373 dimensionless$"
      ],
      "text/plain": [
       "<Quantity(1.6677018633540373, 'dimensionless')>"
      ]
     },
     "metadata": {},
     "output_type": "display_data"
    }
   ],
   "source": [
    "= T[1]/T[0]\n",
    "eps"
   ]
  },
  {
   "cell_type": "code",
   "execution_count": 42,
   "metadata": {},
   "outputs": [
    {
     "data": {
      "text/latex": [
       "$0.00111111111111111*P_0*V_0 \\frac{joule}{\\left(kelvin \\cdot kilogram\\right)}$"
      ],
      "text/plain": [
       "<Quantity(0.00111111111111111*P_0*V_0, 'joule / kelvin / kilogram')>"
      ]
     },
     "metadata": {},
     "output_type": "display_data"
    }
   ],
   "source": [
    "eps = T[1]/T[0]\n",
    "P[1] = P[0] * eps\n",
    "P[2] = P[1] * eps\n",
    "k = 1 + (V[0] * (P[1] - P[0]))/Q_01\n",
    "R = k*cv - cv\n",
    "R"
   ]
  },
  {
   "cell_type": "code",
   "execution_count": 44,
   "metadata": {},
   "outputs": [
    {
     "data": {
      "text/latex": [
       "$[V_0 V_0 V_2] meter^{3}$"
      ],
      "text/plain": [
       "<Quantity([V_0 V_0 V_2], 'meter ** 3')>"
      ]
     },
     "metadata": {},
     "output_type": "display_data"
    }
   ],
   "source": [
    "V"
   ]
  },
  {
   "cell_type": "code",
   "execution_count": null,
   "metadata": {},
   "outputs": [],
   "source": [
    ""
   ]
  }
 ],
 "metadata": {
  "kernelspec": {
   "display_name": "Python 2",
   "language": "python",
   "name": "python2"
  },
  "language_info": {
   "codemirror_mode": {
    "name": "ipython",
    "version": 2.0
   },
   "file_extension": ".py",
   "mimetype": "text/x-python",
   "name": "python",
   "nbconvert_exporter": "python",
   "pygments_lexer": "ipython2",
   "version": "2.7.6"
  }
 },
 "nbformat": 4,
 "nbformat_minor": 0
}