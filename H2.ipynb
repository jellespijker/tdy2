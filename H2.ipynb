{
 "cells": [
  {
   "cell_type": "markdown",
   "metadata": {
    "collapsed": true
   },
   "source": [
    "# Huiswerk TDY2\n",
    "\n",
    "Uit het boek \"Warmteleer voor technici\""
   ]
  },
  {
   "cell_type": "code",
   "execution_count": 1,
   "metadata": {},
   "outputs": [],
   "source": [
    "from pint import UnitRegistry\n",
    "u = UnitRegistry(autoconvert_offset_to_baseunit = True)\n",
    "import matplotlib.pyplot as plt\n",
    "%matplotlib inline\n",
    "from IPython.display import display, Latex, Math\n",
    "from sympy import *"
   ]
  },
  {
   "cell_type": "markdown",
   "metadata": {},
   "source": [
    "## 2.2\n",
    "Aan een installatie wordt per uur $ 100 [MJ] $ warmte toegevoerd, terwijl het toegevoerde vermogen $ 3 [kW] $ bedraagt. Als de afgevoerde mechanische energie $ 6 [MJ] $ per $ 5 [min] $ bedraagt, bereken dan de verandering van de inwendige energie van de installatie in het laatstgenoemde tijdsbestek"
   ]
  },
  {
   "cell_type": "code",
   "execution_count": 2,
   "metadata": {},
   "outputs": [],
   "source": [
    "Q_toe = (100 * u['MJ']) / (1 * u['hr'])\n",
    "W_toe = 3 * u['kW']\n",
    "Q_af = (6 * u['MJ']) / (5 * u['min'])"
   ]
  },
  {
   "cell_type": "code",
   "execution_count": 3,
   "metadata": {},
   "outputs": [],
   "source": [
    "dU = (Q_toe - Q_af) + W_toe\n",
    "dU *= 5 * u['min']\n",
    "print(dU.to('kJ'))"
   ]
  },
  {
   "cell_type": "markdown",
   "metadata": {},
   "source": [
    "## 2.3\n",
    "Voor de inwendige energie van een gas kan worden geschreven:  \n",
    "$ u = (0.745T + C) [kJ/kg] $ waarin C een constante voorstelt.\n",
    "Een kilogram van dit gas wordt van $ 50^\\circ C $ tot $ 375^\\circ C $ verwarmd. Bereken de toe te voeren hoeveelheid warmte in de volgende twee gevallen:  \n",
    "### a\n",
    "Het genoemde gas bevind zich in een ruimte waarvan het volume constant is"
   ]
  },
  {
   "cell_type": "code",
   "execution_count": 4,
   "metadata": {},
   "outputs": [
    {
     "name": "stdout",
     "output_type": "stream",
     "text": [
      "242.125000000000 kilojoule / kilogram\n"
     ]
    }
   ],
   "source": [
    "C = Symbol('C')\n",
    "T_1 = 50 * u['degC']\n",
    "T_2 = 375 * u['degC']\n",
    "u_1 = (0.745 * u['kJ/(K*kg)'] * T_1 + C * u['kJ/kg'])\n",
    "u_2 = (0.745 * u['kJ/(K*kg)'] * T_2 + C * u['kJ/kg'])\n",
    "du = (u_2 - u_1)\n",
    "w_12 = 0 * u['J/kg'] # want V=Const. dus er wordt geen werk verricht\n",
    "q = du + w_12\n",
    "print(q)"
   ]
  },
  {
   "cell_type": "markdown",
   "metadata": {},
   "source": [
    "### b\n",
    "Het gas bevind zich in een cilinder die is afgesloten door een zuiger die vrij kan bewegen. Het specifiek volume van het gas dat een constante druk van $ 2 [bar] $ heeft, neemt bij de verwarming toe van $ 0.3 [m^3/kg] $ tot $ 0.6 [m^3/kg] $"
   ]
  },
  {
   "cell_type": "code",
   "execution_count": 5,
   "metadata": {},
   "outputs": [
    {
     "name": "stdout",
     "output_type": "stream",
     "text": [
      "302.125000000000 kilojoule / kilogram\n"
     ]
    }
   ],
   "source": [
    "p = 2 * u['bar']\n",
    "v_1 = 0.3 * u['m**3/kg']\n",
    "v_2 = 0.6 * u['m**3/kg']\n",
    "dv = v_2 - v_1\n",
    "w_12 = p * dv\n",
    "q = du + w_12\n",
    "print(q.to('kJ/kg'))"
   ]
  },
  {
   "cell_type": "markdown",
   "metadata": {},
   "source": [
    "### c\n",
    "Bepaal ten slotte uit de voorgaande de $ c_p $ waarde van het gas"
   ]
  },
  {
   "cell_type": "code",
   "execution_count": 7,
   "metadata": {},
   "outputs": [
    {
     "name": "stdout",
     "output_type": "stream",
     "text": [
      "929.615384615385 joule / kelvin / kilogram\n"
     ]
    }
   ],
   "source": [
    "c_p = q / (T_2 - T_1)\n",
    "print(c_p.to('J/(kg*K)'))"
   ]
  },
  {
   "cell_type": "markdown",
   "metadata": {},
   "source": [
    "## 2.5\n",
    "Aan een ideaal gas wordt bij constante druk $ 266 [kJ] $ warmte toegevoerd. Bereken de op de omgeving verrichte arbeid, de verandering van de inwendige energie en die van de enthalpie, alsmede de k-waarde van het gas. Gegeven is dat het $ 160.2 [kJ] $ warmte kost om deze temperatuur te realiseren als het volume constant wordt gehouden."
   ]
  }
 ],
 "metadata": {
  "kernelspec": {
   "display_name": "Python 2",
   "language": "python",
   "name": "python2"
  },
  "language_info": {
   "codemirror_mode": {
    "name": "ipython",
    "version": 2.0
   },
   "file_extension": ".py",
   "mimetype": "text/x-python",
   "name": "python",
   "nbconvert_exporter": "python",
   "pygments_lexer": "ipython2",
   "version": "2.7.6"
  }
 },
 "nbformat": 4,
 "nbformat_minor": 0
}